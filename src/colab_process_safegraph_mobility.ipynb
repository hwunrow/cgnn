{
  "cells": [
    {
      "cell_type": "code",
      "execution_count": null,
      "metadata": {
        "id": "jsdTcLiNdJFD"
      },
      "outputs": [],
      "source": [
        "import glob\n",
        "from tqdm import tqdm\n",
        "import pickle\n",
        "import json\n",
        "from collections import Counter\n",
        "import pandas as pd\n",
        "import numpy as np"
      ]
    },
    {
      "cell_type": "code",
      "execution_count": null,
      "metadata": {
        "colab": {
          "base_uri": "https://localhost:8080/"
        },
        "id": "izbJ5RR5dLVW",
        "outputId": "89d14a23-d2c3-4f01-aff0-e81847b7330b"
      },
      "outputs": [
        {
          "output_type": "stream",
          "name": "stdout",
          "text": [
            "Mounted at /content/drive\n"
          ]
        }
      ],
      "source": [
        "from google.colab import drive as mountGoogleDrive\n",
        "mountGoogleDrive.mount('/content/drive')"
      ]
    },
    {
      "cell_type": "code",
      "execution_count": null,
      "metadata": {
        "id": "DQ9PXWqLdM_x"
      },
      "outputs": [],
      "source": [
        "in_dir = r'/content/drive/MyDrive/Research/Safegraph/scratch/20221205/'\n",
        "out_dir = r'/content/drive/MyDrive/Research/Safegraph/scratch/20240415/'"
      ]
    },
    {
      "cell_type": "code",
      "execution_count": null,
      "metadata": {
        "id": "mEG7AUqodSRe"
      },
      "outputs": [],
      "source": [
        "def print_bad_files(in_dir):\n",
        "    \"\"\"Combines pickle files of lists of json files that didn't load\n",
        "    \"\"\"\n",
        "    pickle_files = glob.glob(f'{in_dir}/*.pickle')\n",
        "    bad_files = []\n",
        "    for picklepath in pickle_files:\n",
        "        with open(picklepath, 'rb') as f:\n",
        "            bad_files.append(pickle.load(f))\n",
        "    bad_files = [item for sublist in bad_files for item in sublist]\n",
        "    print(bad_files)\n",
        "\n",
        "\n",
        "def combine_batch_csv(dir):\n",
        "    \"\"\"Combines Safegraph dataframes into one\n",
        "    \"\"\"\n",
        "    csv_files = glob.glob(f'{dir}/*.csv')\n",
        "\n",
        "    df_list = []\n",
        "\n",
        "    for filename in tqdm(csv_files):\n",
        "        df = pd.read_csv(filename, header=0, index_col=0)\n",
        "        df = df[~df['node.safegraph_core.postal_code'].isnull()]\n",
        "        df = df[~df['poi_cbg'].isnull()]\n",
        "        df_list.append(df)\n",
        "\n",
        "    df = pd.concat(df_list, axis=0)\n",
        "\n",
        "    return df"
      ]
    },
    {
      "cell_type": "code",
      "execution_count": null,
      "metadata": {
        "colab": {
          "base_uri": "https://localhost:8080/"
        },
        "id": "6KpKGBPXebcW",
        "outputId": "55c406d8-9f4f-48ee-b8e9-28dcc848b8b4"
      },
      "outputs": [
        {
          "output_type": "stream",
          "name": "stdout",
          "text": [
            "['New York,NYfrom2021-06-14to2021-06-21PART51.json', 'New York,NYfrom2021-07-05to2021-07-12PART138.json', 'New York,NYfrom2021-07-12to2021-07-19PART7.json', 'New York,NYfrom2021-11-01to2021-11-08PART49.json', 'New York,NYfrom2021-11-08to2021-11-15PART70.json']\n"
          ]
        }
      ],
      "source": [
        "print_bad_files(f\"{in_dir}/visitor_home_aggregation/\")"
      ]
    },
    {
      "cell_type": "code",
      "execution_count": null,
      "metadata": {
        "colab": {
          "base_uri": "https://localhost:8080/"
        },
        "id": "pEg_xravd2lV",
        "outputId": "228a0470-dacd-41c4-d1a6-4306251bf803"
      },
      "outputs": [
        {
          "output_type": "stream",
          "name": "stderr",
          "text": [
            "100%|██████████| 9/9 [01:23<00:00,  9.30s/it]\n"
          ]
        }
      ],
      "source": [
        "df = combine_batch_csv(f\"{in_dir}/visitor_home_aggregation/\")"
      ]
    },
    {
      "cell_type": "code",
      "execution_count": null,
      "metadata": {
        "id": "1zHrhiOqSFtw"
      },
      "outputs": [],
      "source": [
        "df['node.safegraph_core.postal_code'] = df['node.safegraph_core.postal_code'].astype(int)"
      ]
    },
    {
      "cell_type": "code",
      "execution_count": null,
      "metadata": {
        "id": "dtVUuInMhY8I"
      },
      "outputs": [],
      "source": [
        "zip_code_map = pd.read_csv('https://raw.githubusercontent.com/erikgregorywebb/nyc-housing/master/Data/nyc-zip-codes.csv')\n",
        "\n",
        "tract_zip_map = pd.read_csv(r'/content/drive/MyDrive/Research/Safegraph/scratch/TRACT_ZIP_122021.csv',\n",
        "                            dtype={'tract': str, 'zip': str})\n",
        "tract_zip_map = tract_zip_map.drop_duplicates(subset='tract', keep=\"first\")\n",
        "tract_zip_map = tract_zip_map[['tract', 'zip']].rename(columns={\"zip\": \"ZCTA\"})"
      ]
    },
    {
      "cell_type": "code",
      "source": [
        "df = df.merge(zip_code_map[['ZipCode','Borough']], left_on='node.safegraph_core.postal_code', right_on='ZipCode', how='left')"
      ],
      "metadata": {
        "id": "cKnIr0o-CkSp"
      },
      "execution_count": null,
      "outputs": []
    },
    {
      "cell_type": "code",
      "source": [
        "df.loc[df.Borough.isnull()].shape[0] / df.shape[0]"
      ],
      "metadata": {
        "colab": {
          "base_uri": "https://localhost:8080/"
        },
        "id": "ADwLjS_wDSZD",
        "outputId": "bc9034a2-6b14-46ee-bac2-7bbdeb632c56"
      },
      "execution_count": null,
      "outputs": [
        {
          "output_type": "execute_result",
          "data": {
            "text/plain": [
              "0.01831489669050727"
            ]
          },
          "metadata": {},
          "execution_count": 10
        }
      ]
    },
    {
      "cell_type": "code",
      "execution_count": null,
      "metadata": {
        "id": "2Jv5EknZg9j3"
      },
      "outputs": [],
      "source": [
        "df = df[~df['Borough'].isnull()]"
      ]
    },
    {
      "cell_type": "code",
      "execution_count": null,
      "metadata": {
        "id": "ebzEZ6iHhKka"
      },
      "outputs": [],
      "source": [
        "df['start'] = pd.to_datetime(df.start, format='%Y-%m-%d')\n",
        "df['end'] = pd.to_datetime(df.end, format='%Y-%m-%d')\n",
        "df['poi_cbg'] = df['poi_cbg'].astype(int).astype(str)"
      ]
    },
    {
      "cell_type": "code",
      "execution_count": null,
      "metadata": {
        "id": "g3Gse_df_p8J",
        "colab": {
          "base_uri": "https://localhost:8080/"
        },
        "outputId": "2dba3870-058c-4f75-89e7-34bc9e96561a"
      },
      "outputs": [
        {
          "output_type": "stream",
          "name": "stdout",
          "text": [
            "[numpy.datetime64('2021-01-04T00:00:00.000000000'), numpy.datetime64('2021-01-11T00:00:00.000000000'), numpy.datetime64('2021-01-18T00:00:00.000000000'), numpy.datetime64('2021-01-25T00:00:00.000000000'), numpy.datetime64('2021-02-01T00:00:00.000000000'), numpy.datetime64('2021-02-08T00:00:00.000000000'), numpy.datetime64('2021-02-15T00:00:00.000000000'), numpy.datetime64('2021-02-22T00:00:00.000000000'), numpy.datetime64('2021-03-01T00:00:00.000000000'), numpy.datetime64('2021-03-08T00:00:00.000000000'), numpy.datetime64('2021-03-15T00:00:00.000000000'), numpy.datetime64('2021-03-22T00:00:00.000000000'), numpy.datetime64('2021-03-29T00:00:00.000000000'), numpy.datetime64('2021-04-05T00:00:00.000000000'), numpy.datetime64('2021-04-12T00:00:00.000000000'), numpy.datetime64('2021-04-19T00:00:00.000000000'), numpy.datetime64('2021-04-26T00:00:00.000000000'), numpy.datetime64('2021-05-03T00:00:00.000000000'), numpy.datetime64('2021-05-10T00:00:00.000000000'), numpy.datetime64('2021-05-17T00:00:00.000000000'), numpy.datetime64('2021-05-24T00:00:00.000000000'), numpy.datetime64('2021-05-31T00:00:00.000000000'), numpy.datetime64('2021-06-07T00:00:00.000000000'), numpy.datetime64('2021-06-14T00:00:00.000000000'), numpy.datetime64('2021-06-21T00:00:00.000000000'), numpy.datetime64('2021-06-28T00:00:00.000000000')]\n"
          ]
        }
      ],
      "source": [
        "import os\n",
        "\n",
        "START_DATE = \"12/31/2020\"\n",
        "END_DATE = \"6/30/2021\"\n",
        "\n",
        "weeks = np.unique(df['end'])\n",
        "weeks = [week for week in weeks if week <= pd.to_datetime(END_DATE) and week >= pd.to_datetime(START_DATE)]\n",
        "\n",
        "print(weeks)"
      ]
    },
    {
      "cell_type": "code",
      "execution_count": null,
      "metadata": {
        "id": "v2-CJW6cB8eW",
        "colab": {
          "base_uri": "https://localhost:8080/"
        },
        "outputId": "17b8e735-f525-4ea0-c163-99715f46377f"
      },
      "outputs": [
        {
          "output_type": "stream",
          "name": "stdout",
          "text": [
            "3\n"
          ]
        }
      ],
      "source": [
        "batchsize = 10\n",
        "batch_list = []\n",
        "for i in range(0, len(weeks), batchsize):\n",
        "    batch = weeks[i:i+batchsize]\n",
        "    batch_list.append(batch)\n",
        "print(len(batch_list))"
      ]
    },
    {
      "cell_type": "code",
      "source": [
        "zip_code_map.ZipCode = zip_code_map.ZipCode.astype(str)"
      ],
      "metadata": {
        "id": "vyvEIzzETtIS"
      },
      "execution_count": null,
      "outputs": []
    },
    {
      "cell_type": "code",
      "execution_count": null,
      "metadata": {
        "id": "Xd-TG3mNkdbW"
      },
      "outputs": [],
      "source": [
        "def create_mobility_matrix(weeks):\n",
        "  for week in tqdm(weeks):\n",
        "    week_df = df.loc[df['end'] == week, ['Borough','visitor_home_aggregation']]\n",
        "    week_df['visitor_home_aggregation'] = week_df['visitor_home_aggregation'].str.replace(\"\\'\", \"\\\"\")\n",
        "\n",
        "    mobility_df = pd.DataFrame()\n",
        "    for index, row in week_df.iterrows():\n",
        "      row_dict = json.loads(row['visitor_home_aggregation'])\n",
        "      row_df = pd.DataFrame(list(row_dict.items()), columns=['tract','visitor_home_aggregation'])\n",
        "      row_df['destination'] = row['Borough']\n",
        "      mobility_df = pd.concat([mobility_df, row_df])\n",
        "\n",
        "    mobility_df = mobility_df.merge(tract_zip_map, on='tract', how='left')\n",
        "    mobility_df = mobility_df.merge(zip_code_map[['ZipCode','Borough']], left_on='ZCTA', right_on='ZipCode')\n",
        "\n",
        "    mobility_df = mobility_df[~mobility_df['Borough'].isnull()]\n",
        "\n",
        "    mobility_df = mobility_df.groupby(['destination','Borough'])['visitor_home_aggregation'].sum().reset_index()\n",
        "\n",
        "    mobility_df['end'] = week\n",
        "    mobility_df = mobility_df.rename(columns={\"Borough\":\"origin\"})\n",
        "\n",
        "    mobility_df.to_csv(f\"{out_dir}/mobility/{pd.to_datetime(week).date()}_mobility.csv\", index=False)"
      ]
    },
    {
      "cell_type": "code",
      "execution_count": null,
      "metadata": {
        "colab": {
          "base_uri": "https://localhost:8080/"
        },
        "id": "zExf-yT6Y7Ci",
        "outputId": "858be743-1c29-4756-ff34-ec2a4ac46f9e"
      },
      "outputs": [
        {
          "output_type": "stream",
          "name": "stderr",
          "text": [
            "100%|██████████| 10/10 [09:04<00:00, 54.43s/it]\n"
          ]
        }
      ],
      "source": [
        "create_mobility_matrix(batch_list[0])"
      ]
    },
    {
      "cell_type": "code",
      "execution_count": null,
      "metadata": {
        "id": "0O9YaaDbGtsb",
        "colab": {
          "base_uri": "https://localhost:8080/"
        },
        "outputId": "ea78354b-9e74-4f16-e57e-ad04c0cc4561"
      },
      "outputs": [
        {
          "output_type": "stream",
          "name": "stderr",
          "text": [
            "100%|██████████| 10/10 [11:46<00:00, 70.70s/it]\n"
          ]
        }
      ],
      "source": [
        "create_mobility_matrix(batch_list[1])"
      ]
    },
    {
      "cell_type": "code",
      "execution_count": null,
      "metadata": {
        "id": "hdmpSsOUGu5m",
        "colab": {
          "base_uri": "https://localhost:8080/"
        },
        "outputId": "08ae93a7-a762-44bf-b459-c5e59ce691dc"
      },
      "outputs": [
        {
          "output_type": "stream",
          "name": "stderr",
          "text": [
            "100%|██████████| 6/6 [06:43<00:00, 67.28s/it]\n"
          ]
        }
      ],
      "source": [
        "create_mobility_matrix(batch_list[2])"
      ]
    },
    {
      "cell_type": "code",
      "source": [],
      "metadata": {
        "id": "y8KQ2GushVfb"
      },
      "execution_count": null,
      "outputs": []
    }
  ],
  "metadata": {
    "colab": {
      "provenance": []
    },
    "kernelspec": {
      "display_name": "Python 3",
      "name": "python3"
    },
    "language_info": {
      "name": "python"
    }
  },
  "nbformat": 4,
  "nbformat_minor": 0
}