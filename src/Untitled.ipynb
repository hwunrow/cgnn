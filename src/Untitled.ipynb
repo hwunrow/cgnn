{
 "cells": [
  {
   "cell_type": "code",
   "execution_count": 6,
   "id": "06d841bb-1857-48aa-b6ff-4672061cda26",
   "metadata": {},
   "outputs": [],
   "source": [
    "import generate_synethic_data\n",
    "import numpy as np\n",
    "from scipy.stats.qmc import LatinHypercube"
   ]
  },
  {
   "cell_type": "code",
   "execution_count": 4,
   "id": "e02d6a7b-f3c3-48ac-90cf-bdb32fb3b9e7",
   "metadata": {},
   "outputs": [
    {
     "data": {
      "text/plain": [
       "<scipy.stats._qmc.LatinHypercube at 0x7f7185cc09a0>"
      ]
     },
     "execution_count": 4,
     "metadata": {},
     "output_type": "execute_result"
    }
   ],
   "source": [
    "LatinHypercube(3)"
   ]
  },
  {
   "cell_type": "code",
   "execution_count": null,
   "id": "75664ffb-e92e-4da4-a45f-f201cf757410",
   "metadata": {},
   "outputs": [],
   "source": [
    "r0_list = \n",
    "tI_list = \n",
    "S0_p = \n",
    "\n",
    "true_params = {\n",
    "    'rt_0': 1.3,\n",
    "    'rt_1': 1.3,\n",
    "    'midpoint': 190.,\n",
    "    'k': 0.1,\n",
    "    'n_t': 365,\n",
    "    't_I': 4.,\n",
    "    'N': 100_000.,\n",
    "    'S0': 99_900.,\n",
    "    'I0': 100.,\n",
    "}\n",
    "data = simulate_data.simulate_data(**true_params, run_deterministic=True)"
   ]
  },
  {
   "cell_type": "code",
   "execution_count": 21,
   "id": "b2fbc37c-28f1-4fcb-a1cf-c2e8a813b925",
   "metadata": {},
   "outputs": [],
   "source": [
    "from scipy.stats import qmc\n",
    "\n",
    "def latin_hypercube_sampling(bounds, n_samples):\n",
    "    \"\"\"\n",
    "    Generate Latin hypercube samples within specified bounds.\n",
    "\n",
    "    Args:\n",
    "        bounds (tuple): Lower and upper bounds for each dimension.\n",
    "        n_samples (int): Number of samples to generate.\n",
    "\n",
    "    Returns:\n",
    "        numpy array: Latin hypercube samples scaled within given bounds.\n",
    "    \"\"\"\n",
    "    sampler = qmc.LatinHypercube(d=len(bounds[0]))\n",
    "    sample = sampler.random(n=n_samples)\n",
    "    l_bounds = bounds[0]\n",
    "    u_bounds = bounds[1]\n",
    "    sample_scaled = qmc.scale(sample, l_bounds, u_bounds)\n",
    "\n",
    "    return sample_scaled\n",
    "    "
   ]
  },
  {
   "cell_type": "code",
   "execution_count": 28,
   "id": "08f5c35d-6e45-4ba6-9f6c-1114c5dbd8b9",
   "metadata": {},
   "outputs": [],
   "source": [
    "bounds = ([1.01, 0.5, 0.8], [5, 14, 0.99])\n",
    "samples = latin_hypercube_sampling(bounds, 1000)"
   ]
  },
  {
   "cell_type": "code",
   "execution_count": 31,
   "id": "fc225e3a-95d1-48dd-b6aa-05d1cfc8e858",
   "metadata": {},
   "outputs": [
    {
     "data": {
      "text/plain": [
       "(1000, 3)"
      ]
     },
     "execution_count": 31,
     "metadata": {},
     "output_type": "execute_result"
    }
   ],
   "source": [
    "samples[i,0]"
   ]
  },
  {
   "cell_type": "code",
   "execution_count": 26,
   "id": "c739b073-4715-4bf2-a1e6-cc90ab3d0bf5",
   "metadata": {},
   "outputs": [
    {
     "data": {
      "text/plain": [
       "[1.01, 0.5, 0.8]"
      ]
     },
     "execution_count": 26,
     "metadata": {},
     "output_type": "execute_result"
    }
   ],
   "source": [
    "bounds[0]"
   ]
  },
  {
   "cell_type": "code",
   "execution_count": 27,
   "id": "3c0394ee-5d62-4623-a1fe-12f85cc59ffb",
   "metadata": {},
   "outputs": [
    {
     "data": {
      "text/plain": [
       "[5, 14, 0.99]"
      ]
     },
     "execution_count": 27,
     "metadata": {},
     "output_type": "execute_result"
    }
   ],
   "source": [
    "bounds[1]"
   ]
  },
  {
   "cell_type": "code",
   "execution_count": 43,
   "id": "fae6dcbe-af23-4e08-8203-c62ef7acba46",
   "metadata": {},
   "outputs": [
    {
     "name": "stderr",
     "output_type": "stream",
     "text": [
      "100%|████████████████████████████████████████████████████| 1000/1000 [00:12<00:00, 80.16it/s]\n"
     ]
    }
   ],
   "source": [
    "from tqdm import tqdm\n",
    "\n",
    "synthetic_array = np.zeros((1000, 3, 366))\n",
    "\n",
    "for i in tqdm(range(samples.shape[0])):\n",
    "    true_params = {\n",
    "        'rt_0': samples[i,0],\n",
    "        'rt_1': samples[i,0],\n",
    "        'midpoint': 190.,\n",
    "        'k': 0.1,\n",
    "        'n_t': 365,\n",
    "        't_I': samples[i,1],\n",
    "        'N': 100_000.,\n",
    "        'S0': 100_000 * samples[i,2],\n",
    "        'I0': 100_000 * (1 - samples[i,2]),\n",
    "    }\n",
    "    data = generate_synethic_data.simulate_data(**true_params, run_deterministic=True)\n",
    "    synthetic_array[i] = np.array([data.i, data.S, data.I])\n",
    "    "
   ]
  },
  {
   "cell_type": "code",
   "execution_count": 50,
   "id": "320a32b7-731d-4478-a0ad-01d0351c16ad",
   "metadata": {},
   "outputs": [],
   "source": [
    "synthetic_array = np.swapaxes(synthetic_array,1,2)"
   ]
  },
  {
   "cell_type": "code",
   "execution_count": 53,
   "id": "69b18ff4-ede8-48fe-964f-c382fb3c1ca0",
   "metadata": {},
   "outputs": [],
   "source": [
    "import pandas as pd\n",
    "\n",
    "m,n,r = synthetic_array.shape\n",
    "out_arr = np.column_stack((np.repeat(np.arange(m),n),synthetic_array.reshape(m*n,-1)))\n",
    "out_df = pd.DataFrame(out_arr, columns=[\"sample\", \"i\", \"S\", \"I\"])"
   ]
  },
  {
   "cell_type": "code",
   "execution_count": 55,
   "id": "0d0e844b-1349-4071-b5c5-d5deec9db142",
   "metadata": {},
   "outputs": [],
   "source": [
    "out_df.to_csv(\"synthetic_data.csv\", index=False)"
   ]
  },
  {
   "cell_type": "code",
   "execution_count": null,
   "id": "9f47a8ec-2f30-49ba-a3a5-8a7650fff9f7",
   "metadata": {},
   "outputs": [],
   "source": []
  }
 ],
 "metadata": {
  "kernelspec": {
   "display_name": "Python 3 (ipykernel)",
   "language": "python",
   "name": "python3"
  },
  "language_info": {
   "codemirror_mode": {
    "name": "ipython",
    "version": 3
   },
   "file_extension": ".py",
   "mimetype": "text/x-python",
   "name": "python",
   "nbconvert_exporter": "python",
   "pygments_lexer": "ipython3",
   "version": "3.10.14"
  }
 },
 "nbformat": 4,
 "nbformat_minor": 5
}
